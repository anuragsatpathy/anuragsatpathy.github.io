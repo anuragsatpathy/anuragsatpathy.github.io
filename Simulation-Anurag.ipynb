{
 "cells": [
  {
   "cell_type": "code",
   "execution_count": 198,
   "metadata": {
    "collapsed": true
   },
   "outputs": [],
   "source": [
    "import numpy as np\n",
    "import random\n",
    "import math"
   ]
  },
  {
   "cell_type": "code",
   "execution_count": 327,
   "metadata": {
    "collapsed": true
   },
   "outputs": [],
   "source": [
    "def get_distance2D(p1, p2):\n",
    "    return math.sqrt((p1[0] - p2[0]) ** 2 + (p1[1] - p2[1]) ** 2)\n",
    "\n",
    "def get_distance3D(p1, p2):\n",
    " \n",
    " return math.sqrt((p1[0] - p2[0]) ** 2 + (p1[1] - p2[1]) ** 2 + (p1[2] - p2[2]) ** 2)\n",
    "\n",
    "#### Ground to Air Channel Gain\n",
    "\n",
    "def get_PL_A2A(p1, p2):\n",
    " \n",
    " d_3D = get_distance3D(p1, p2)\n",
    " \n",
    " return 20 * math.log(d_3D) + 20 * math.log(f_c) + 20 * math.log((4*math.pi) / (3*10**8))\n",
    "\n",
    "def get_PL_A2G(p1, p2):\n",
    " \n",
    "#  d_3D = get_distance3D(p1, p2)\n",
    " eta_LOS, eta_NLOS = 2.0, 21.0 # https://ieeexplore.ieee.org/document/9844892\n",
    " PL_A2G_LOS = get_PL_A2A(p1, p2) + eta_LOS\n",
    " PL_A2G_NLOS = get_PL_A2A(p1, p2) + eta_NLOS\n",
    "\n",
    " return PL_A2G_LOS, PL_A2G_NLOS\n",
    "\n",
    "def get_Pr_A2G(p1, p2):\n",
    " \n",
    " alpha = 0.136 # https://ieeexplore.ieee.org/document/8796414\n",
    " beta = 11.95 # https://ieeexplore.ieee.org/document/9844892\n",
    " d_3D = get_distance3D(p1, p2)\n",
    " elevation_angle = math.asin(p2[2]/d_3D)\n",
    "\n",
    " return 1 / (1 + alpha * math.exp(-1 * beta * (elevation_angle - alpha)))\n",
    "\n",
    "def get_channel_gain_A2G(p1, p2):\n",
    " \n",
    " PL_A2G_LOS, PL_A2G_NLOS = get_PL_A2G(p1, p2)\n",
    " Pr_A2G = get_Pr_A2G(p1, p2)\n",
    " PL_A2G_dB = (Pr_A2G * PL_A2G_LOS) + ((1 - Pr_A2G) * PL_A2G_NLOS)\n",
    " PL_A2G = 10**(PL_A2G_dB / 10)\n",
    "\n",
    " return 1 / PL_A2G\n",
    "\n",
    "#### Ground to Ground Channel Gain\n",
    "\n",
    "def get_breakpoint(p1, p2):\n",
    "    return 4 * (p1[2] - 1) * (p2[2] - 1) * f_c / (3*10**8)\n",
    "\n",
    "def get_Pr_G2G(p1, p2):\n",
    "    \n",
    "    d_2D = get_distance2D(p1, p2)\n",
    "    \n",
    "    if d_2D < 18 or d_2D == 18:\n",
    "        pr_LOS = 1\n",
    "    else:\n",
    "        pr_LOS = ((18/d_2D) + (math.exp(-d_2D/63)*(1-(18/d_2D))))\n",
    "        \n",
    "    return pr_LOS \n",
    "\n",
    "def get_PL_LOS_G2G(p1, p2):\n",
    "    \n",
    "    d_2D = get_distance2D(p1, p2)\n",
    "    BP = get_breakpoint(p1, p2)\n",
    "    \n",
    "    if  (10 < d_2D) and (d_2D < BP):\n",
    "        PL_LOS = 28 + 22*math.log10(get_distance3D(p1, p2)) + 20*math.log10(f_c*10**(-9))\n",
    "    else:\n",
    "        PL_LOS = 28 + 40*math.log10(get_distance3D(p1, p2)) + 20*math.log10((f_c*10**(-9))) - 9*math.log10(BP**2 + (p2[2] - p1[2])**2)\n",
    "    \n",
    "    return PL_LOS\n",
    "def get_PL_NLOS_G2G(p1, p2):\n",
    "    \n",
    "    PL_NLOS = max(get_PL_LOS_G2G(p1, p2), (13.54 + 39.08 * math.log10(get_distance3D(p1, p2)) + 20 * math.log10(f_c*10**(-9)) - 0.6*(p1[2] -1.5)))\n",
    "    \n",
    "    return PL_NLOS\n",
    "\n",
    "def get_PL_G2G(p1, p2):\n",
    "    \n",
    "    return (get_Pr_G2G(p1, p2) * get_PL_LOS_G2G(p1, p2)) + ((1-get_Pr_G2G(p1, p2)) * get_PL_NLOS_G2G(p1, p2))\n",
    "\n",
    "def get_channel_gain_G2G(p1, p2):\n",
    "    \n",
    "    return 1 / 10**(get_PL_G2G(p1, p2)/10)"
   ]
  },
  {
   "cell_type": "code",
   "execution_count": 328,
   "metadata": {
    "collapsed": true
   },
   "outputs": [],
   "source": [
    "# Genrating increasing random numbers\n",
    "def generate_increasing_random_numbers(n, start, end):\n",
    "    # Generate n random numbers in the range and sort them\n",
    "    random_numbers = sorted(random.sample(range(start, end), n))\n",
    "    return random_numbers"
   ]
  },
  {
   "cell_type": "code",
   "execution_count": 329,
   "metadata": {},
   "outputs": [
    {
     "ename": "TypeError",
     "evalue": "generate_increasing_random_numbers() missing 2 required positional arguments: 'start' and 'end'",
     "output_type": "error",
     "traceback": [
      "\u001b[0;31m---------------------------------------------------------------------------\u001b[0m",
      "\u001b[0;31mTypeError\u001b[0m                                 Traceback (most recent call last)",
      "\u001b[0;32m<ipython-input-329-5ba61612a92a>\u001b[0m in \u001b[0;36m<module>\u001b[0;34m()\u001b[0m\n\u001b[1;32m      1\u001b[0m \u001b[0mn\u001b[0m \u001b[0;34m=\u001b[0m \u001b[0;36m10\u001b[0m  \u001b[0;31m# Number of random numbers to generate\u001b[0m\u001b[0;34m\u001b[0m\u001b[0m\n\u001b[0;32m----> 2\u001b[0;31m \u001b[0mrandom_numbers\u001b[0m \u001b[0;34m=\u001b[0m \u001b[0mgenerate_increasing_random_numbers\u001b[0m\u001b[0;34m(\u001b[0m\u001b[0mn\u001b[0m\u001b[0;34m)\u001b[0m\u001b[0;34m\u001b[0m\u001b[0m\n\u001b[0m\u001b[1;32m      3\u001b[0m \u001b[0mprint\u001b[0m\u001b[0;34m(\u001b[0m\u001b[0mrandom_numbers\u001b[0m\u001b[0;34m)\u001b[0m\u001b[0;34m\u001b[0m\u001b[0m\n",
      "\u001b[0;31mTypeError\u001b[0m: generate_increasing_random_numbers() missing 2 required positional arguments: 'start' and 'end'"
     ]
    }
   ],
   "source": [
    "n = 10  # Number of random numbers to generate\n",
    "random_numbers = generate_increasing_random_numbers(n)\n",
    "print(random_numbers)"
   ]
  },
  {
   "cell_type": "code",
   "execution_count": 488,
   "metadata": {},
   "outputs": [
    {
     "name": "stdout",
     "output_type": "stream",
     "text": [
      "[[101, 0, 1.5], [122, 0, 1.5], [143, 0, 1.5], [164, 0, 1.5], [185, 0, 1.5], [206, 0, 1.5], [227, 0, 1.5], [248, 0, 1.5], [269, 0, 1.5], [290, 0, 1.5], [311, 0, 1.5], [332, 0, 1.5]]\n",
      "[[79.7699818227383, 84.16204607778973, 89.46088530749067], [90.03471552684553, 96.15742301039478, 102.8895038378551], [103.59174677550331, 110.86590999942227, 118.5379686007821], [119.32413837945782, 127.35089320456296, 135.64014892353958], [136.48168375280252, 145.00775841312768, 153.71158056568152], [154.5905883293029, 163.45718093739413, 172.44781819437438], [173.35296363200717, 182.45889948149966, 191.65398508770957], [192.57790631326327, 201.85700384182857, 211.20191760493086], [212.13969454112072, 221.5473989917282, 231.0048700785332], [231.9531202635567, 241.4585885819761, 251.00249002748956], [251.95882600139254, 261.54014988142836, 271.1517103025537], [272.11440608685166, 281.75565655368837, 291.4210870887692]]\n",
      "[103.69787847395915, 124.2427060233316, 144.918080307462, 165.6751339217808, 186.48659469248722, 207.33607983175528, 228.2131678935289, 249.11091907020054, 270.024535922201, 290.95059718103346, 311.8865979807404, 332.8306626499428]\n"
     ]
    }
   ],
   "source": [
    "#### Topology\n",
    "f_c = 5 * 10 **9\n",
    "#x_f_p = 0.3\n",
    "P_max = 0.1\n",
    "I0 = 3.98* 10 ** (-21)\n",
    "W = 5 * 10 ** 6\n",
    "responders = 12\n",
    "x_f_p = np.linspace(0.1, 0.3, responders)\n",
    "responder_height = 1.5\n",
    "uavs = 3\n",
    "alpha = 0.2\n",
    "beta =0.2\n",
    "loss_aversion = 5\n",
    "base_station_coordinates = [0, 0, 25]\n",
    "uav_coordinates = [[50, 0, 75], [60, 0, 75], [70, 0, 75]]\n",
    "uav_coordinates.sort(reverse= True)\n",
    "maximum_tolerable_interference_uav = [10, 20, 30]\n",
    "w1 = 1\n",
    "w2 = 100\n",
    "#2D-List of responders having y, z coordinates \n",
    "responder_coordinates = [[0,responder_height] for x in range(responders)]\n",
    "\n",
    "responder_uav_distance = list()\n",
    "responder_bs_distance = list()\n",
    "\n",
    "#Adding x coordinates to 2D-List of responders to make it 3-D coordinate list\n",
    "for responder in range(responders):\n",
    "    responder_coordinates[responder].insert(0, 80+(responder+1)+((responder+1)*20))\n",
    "print(responder_coordinates)\n",
    "\n",
    "for responder in range(responders):\n",
    "    # Temporary List for Each responder which is a row matrix with 3 entries as 3 UAVs.\n",
    "    responder_uav_distance_temp = list()\n",
    "    for uav in range(uavs):\n",
    "        responder_uav_distance_temp.append(get_distance3D(responder_coordinates[responder], uav_coordinates[uav]))\n",
    "    responder_uav_distance.append(responder_uav_distance_temp)\n",
    "print(responder_uav_distance)\n",
    "\n",
    "for responder in range(responders):\n",
    "    responder_bs_distance.append(get_distance3D(responder_coordinates[responder], base_station_coordinates))\n",
    "print(responder_bs_distance)"
   ]
  },
  {
   "cell_type": "code",
   "execution_count": 489,
   "metadata": {},
   "outputs": [
    {
     "name": "stdout",
     "output_type": "stream",
     "text": [
      "[ 0.1         0.11818182  0.13636364  0.15454545  0.17272727  0.19090909\n",
      "  0.20909091  0.22727273  0.24545455  0.26363636  0.28181818  0.3       ]\n"
     ]
    }
   ],
   "source": [
    "print(x_f_p)"
   ]
  },
  {
   "cell_type": "code",
   "execution_count": 490,
   "metadata": {},
   "outputs": [
    {
     "data": {
      "text/plain": [
       "12"
      ]
     },
     "execution_count": 490,
     "metadata": {},
     "output_type": "execute_result"
    }
   ],
   "source": [
    "responders"
   ]
  },
  {
   "cell_type": "code",
   "execution_count": 491,
   "metadata": {},
   "outputs": [
    {
     "data": {
      "text/plain": [
       "[[79.7699818227383, 84.16204607778973, 89.46088530749067],\n",
       " [90.03471552684553, 96.15742301039478, 102.8895038378551],\n",
       " [103.59174677550331, 110.86590999942227, 118.5379686007821],\n",
       " [119.32413837945782, 127.35089320456296, 135.64014892353958],\n",
       " [136.48168375280252, 145.00775841312768, 153.71158056568152],\n",
       " [154.5905883293029, 163.45718093739413, 172.44781819437438],\n",
       " [173.35296363200717, 182.45889948149966, 191.65398508770957],\n",
       " [192.57790631326327, 201.85700384182857, 211.20191760493086],\n",
       " [212.13969454112072, 221.5473989917282, 231.0048700785332],\n",
       " [231.9531202635567, 241.4585885819761, 251.00249002748956],\n",
       " [251.95882600139254, 261.54014988142836, 271.1517103025537],\n",
       " [272.11440608685166, 281.75565655368837, 291.4210870887692]]"
      ]
     },
     "execution_count": 491,
     "metadata": {},
     "output_type": "execute_result"
    }
   ],
   "source": [
    "responder_uav_distance"
   ]
  },
  {
   "cell_type": "code",
   "execution_count": 492,
   "metadata": {},
   "outputs": [
    {
     "data": {
      "text/plain": [
       "0.11818181818181819"
      ]
     },
     "execution_count": 492,
     "metadata": {},
     "output_type": "execute_result"
    }
   ],
   "source": [
    "x_f_p[1]"
   ]
  },
  {
   "cell_type": "code",
   "execution_count": 493,
   "metadata": {
    "collapsed": true
   },
   "outputs": [],
   "source": [
    "#Assignment List (Matching List)\n",
    "responders_per_uav = [[] for x in range(uavs)]\n",
    "# responders_per_uav = [[]*3] or [[]*uavs]\n",
    "# for uav in range(uavs): responders_per_uav.append([]) \n",
    "\n",
    "def get_data_rate_res_uav(responder_id, uav_id):\n",
    "    # Interference List\n",
    "    responder_to_uav_channel_gain_power = list()\n",
    "    #print(responders_per_uav[uav_id])\n",
    "    \n",
    "    # Compute the interference of other responders assigned to the same UAV\n",
    "    for responder in responders_per_uav[uav_id]:\n",
    "        if responder == responder_id:\n",
    "            continue\n",
    "        else:\n",
    "            responder_to_uav_channel_gain_power.append(get_channel_gain_A2G(responder_coordinates[responder], uav_coordinates[uav_id]) *x_f_p[responder]*P_max)\n",
    "    \n",
    "    # Compute the interference of responders assigned to other UAVs\n",
    "    responder_to_other_uav_channel_gain_power = list()\n",
    "    for uav in range(uavs):\n",
    "        if uav == uav_id:\n",
    "            continue\n",
    "        else:\n",
    "            for responder in responders_per_uav[uav]:\n",
    "                responder_to_other_uav_channel_gain_power.append(get_channel_gain_A2G(responder_coordinates[responder], uav_coordinates[uav]) *x_f_p[responder]*P_max)\n",
    "    \n",
    "    interference = sum(responder_to_other_uav_channel_gain_power) + sum(responder_to_uav_channel_gain_power)\n",
    "    \n",
    "    data_rate = W * math.log2(1 + ((x_f_p[responder_id] * P_max * get_channel_gain_A2G(responder_coordinates[responder_id], uav_coordinates[uav_id]))/(I0 + interference)))\n",
    "    return data_rate\n",
    "\n",
    "def get_data_rate_res_bs(responder_id):\n",
    "\n",
    "    responder_to_bs_channel_gain_power = list()\n",
    "    for responder in range(responders):\n",
    "        if responder == responder_id:\n",
    "            continue\n",
    "        else:\n",
    "            responder_to_bs_channel_gain_power.append(get_channel_gain_G2G(responder_coordinates[responder], base_station_coordinates) *(1 - x_f_p[responder])*P_max)\n",
    "    data_rate = W * math.log2(1 + ((x_f_p[responder] * P_max * get_channel_gain_G2G(responder_coordinates[responder_id], base_station_coordinates))/(I0 + sum(responder_to_bs_channel_gain_power))))\n",
    "    return data_rate"
   ]
  },
  {
   "cell_type": "code",
   "execution_count": 494,
   "metadata": {},
   "outputs": [
    {
     "data": {
      "text/plain": [
       "12"
      ]
     },
     "execution_count": 494,
     "metadata": {},
     "output_type": "execute_result"
    }
   ],
   "source": [
    "responders"
   ]
  },
  {
   "cell_type": "code",
   "execution_count": 495,
   "metadata": {},
   "outputs": [
    {
     "data": {
      "text/plain": [
       "[1021, 1052, 1763, 1810, 2352, 2887, 3117, 3785, 4204, 4469, 4649, 4898]"
      ]
     },
     "execution_count": 495,
     "metadata": {},
     "output_type": "execute_result"
    }
   ],
   "source": [
    "# Set the data generated by responders (in KB)\n",
    "data_per_responder = generate_increasing_random_numbers(responders, 1000, 5000)\n",
    "data_per_responder"
   ]
  },
  {
   "cell_type": "code",
   "execution_count": 496,
   "metadata": {},
   "outputs": [
    {
     "data": {
      "text/plain": [
       "(2.2533826798861113e-20, 1.7605135849826264e-20, 1.3289786511849228e-20)"
      ]
     },
     "execution_count": 496,
     "metadata": {},
     "output_type": "execute_result"
    }
   ],
   "source": [
    "get_channel_gain_A2G(responder_coordinates[0], uav_coordinates[0]), get_channel_gain_A2G(responder_coordinates[0], uav_coordinates[1]), get_channel_gain_A2G(responder_coordinates[0], uav_coordinates[2])"
   ]
  },
  {
   "cell_type": "code",
   "execution_count": 497,
   "metadata": {},
   "outputs": [
    {
     "data": {
      "text/plain": [
       "(397267.10767949343, 397267.10767949343, 397267.10767949343)"
      ]
     },
     "execution_count": 497,
     "metadata": {},
     "output_type": "execute_result"
    }
   ],
   "source": [
    "get_data_rate_res_uav(0, 0), get_data_rate_res_uav(0, 0), get_data_rate_res_uav(0, 0)"
   ]
  },
  {
   "cell_type": "code",
   "execution_count": 498,
   "metadata": {},
   "outputs": [
    {
     "data": {
      "text/plain": [
       "2713809.7122027185"
      ]
     },
     "execution_count": 498,
     "metadata": {},
     "output_type": "execute_result"
    }
   ],
   "source": [
    "get_data_rate_res_bs(0)"
   ]
  },
  {
   "cell_type": "code",
   "execution_count": 499,
   "metadata": {
    "collapsed": true
   },
   "outputs": [],
   "source": [
    "# Computing Latency and Energy overheads (Joules) to UAVs (sec)\n",
    "\n",
    "data_offload_percentage_uav = 0.7\n",
    "\n",
    "def get_latency_res_uav(responder_id, uav_id):\n",
    "    # Convert the data transmitted to bits.\n",
    "    responder_to_uav_latency = (data_offload_percentage_uav*data_per_responder[responder_id]*(10**3)*8)/get_data_rate_res_uav(responder_id, uav_id)\n",
    "    return responder_to_uav_latency\n",
    "    \n",
    "    \n",
    "def get_energy_res_uav(responder_id, uav_id):\n",
    "    responder_to_uav_energy = get_latency_res_uav(responder_id, uav_id)*(x_f_p[responder_id]*P_max)\n",
    "    return responder_to_uav_energy\n"
   ]
  },
  {
   "cell_type": "code",
   "execution_count": 500,
   "metadata": {},
   "outputs": [
    {
     "data": {
      "text/plain": [
       "(14.392331732162523, 0.14392331732162525)"
      ]
     },
     "execution_count": 500,
     "metadata": {},
     "output_type": "execute_result"
    }
   ],
   "source": [
    "get_latency_res_uav(0, 0), get_energy_res_uav(0, 0)"
   ]
  },
  {
   "cell_type": "code",
   "execution_count": 501,
   "metadata": {
    "collapsed": true
   },
   "outputs": [],
   "source": [
    "# Computing Latency and Energy overheads (Joules) to Base station (sec)\n",
    "\n",
    "data_offload_percentage_bs = 0.3\n",
    "\n",
    "def get_latency_res_to_bs(responder_id):\n",
    "    responder_to_bs_latency = (data_offload_percentage_bs*data_per_responder[responder_id]*(10**3)*8)/get_data_rate_res_bs(responder_id)\n",
    "    return responder_to_bs_latency\n",
    "\n",
    "def get_energy_res_bs(responder_id):\n",
    "    responder_to_bs_energy = get_latency_res_to_bs(responder_id)*((1 - x_f_p[responder_id])*P_max)\n",
    "    return responder_to_bs_energy\n"
   ]
  },
  {
   "cell_type": "code",
   "execution_count": 502,
   "metadata": {},
   "outputs": [
    {
     "data": {
      "text/plain": [
       "(0.9029372947490424, 0.081264356527413831)"
      ]
     },
     "execution_count": 502,
     "metadata": {},
     "output_type": "execute_result"
    }
   ],
   "source": [
    "get_latency_res_to_bs(0), get_energy_res_bs(0)"
   ]
  },
  {
   "cell_type": "code",
   "execution_count": 503,
   "metadata": {
    "collapsed": true
   },
   "outputs": [],
   "source": [
    "# Computing the total overhead (Latency) and (Energy) for a specific responder to a UAV\n",
    "\n",
    "def get_total_latency_res(responder_id, uav_id):\n",
    "    total_latency_res =  get_latency_res_uav(responder_id, uav_id) + get_latency_res_to_bs(responder_id)\n",
    "    return total_latency_res\n",
    "\n",
    "def get_total_energy_res(responder_id, uav_id):\n",
    "    total_energy_res = get_energy_res_uav(responder_id, uav_id) + get_energy_res_bs(responder_id)\n",
    "    return total_energy_res"
   ]
  },
  {
   "cell_type": "code",
   "execution_count": 504,
   "metadata": {},
   "outputs": [
    {
     "data": {
      "text/plain": [
       "(15.295269026911566, 0.22518767384903909)"
      ]
     },
     "execution_count": 504,
     "metadata": {},
     "output_type": "execute_result"
    }
   ],
   "source": [
    "get_total_latency_res(0, 0), get_total_energy_res(0, 0)"
   ]
  },
  {
   "cell_type": "code",
   "execution_count": 505,
   "metadata": {
    "collapsed": true
   },
   "outputs": [],
   "source": [
    "# Get the min latency profile corresponding to a responder.\n",
    "def get_latency_profile_res(responder_id):\n",
    "    latency_profile = list()\n",
    "    for uav in range(uavs):\n",
    "        latency_profile.append(get_total_latency_res(responder_id, uav))\n",
    "    return latency_profile\n",
    "\n",
    "# Get the min energy corresponding to a responder.\n",
    "def get_energy_profile_res(responder_id):\n",
    "    energy_profile = list()\n",
    "    for uav in range(uavs):\n",
    "        energy_profile.append(get_total_energy_res(responder_id, uav))\n",
    "    return energy_profile"
   ]
  },
  {
   "cell_type": "code",
   "execution_count": 506,
   "metadata": {},
   "outputs": [
    {
     "data": {
      "text/plain": [
       "([25.603006509238156, 33.147694530187046, 43.704116655612815],\n",
       " [0.59912727085631656, 0.6882917656493488, 0.81304948167710789])"
      ]
     },
     "execution_count": 506,
     "metadata": {},
     "output_type": "execute_result"
    }
   ],
   "source": [
    "get_latency_profile_res(1), get_energy_profile_res(1)"
   ]
  },
  {
   "cell_type": "code",
   "execution_count": 507,
   "metadata": {},
   "outputs": [
    {
     "name": "stdout",
     "output_type": "stream",
     "text": [
      "[[15.295269026911566, 19.215357070311658, 25.034544205515175], [25.603006509238156, 33.147694530187046, 43.704116655612815], [76.22628685513001, 97.915772855088, 127.1067741370205], [138.66349770530286, 174.66317600274763, 221.60165070904748], [307.8615484391058, 379.83628151269136, 471.2562277939758], [617.7601789864445, 748.215055806977, 910.4016958203664], [1045.193794095006, 1246.2913329767252, 1491.9438081133985], [1915.728700942651, 2254.8815329479185, 2663.1518396863066], [3109.6406248550243, 3620.9047416979606, 4228.752934836468], [4699.296768110382, 5422.5892751544125, 6273.300790437532], [6786.63137238345, 7770.97322146914, 8917.764337912446], [9724.623981558723, 11060.844341003267, 12604.391739989565]]\n",
      "[[0.22518767384903909, 0.26438855428304003, 0.32258042563507522], [0.59912727085631656, 0.6882917656493488, 0.81304948167710789], [2.23778690519045, 2.533552623371695, 2.9316117317616834], [4.580521379396723, 5.1368800439935969, 5.8622928349091401], [10.872771750650248, 12.115971685557636, 13.695043484961639], [22.737951034864935, 25.228453228711462, 28.324743628967077], [39.554490077061885, 43.759256799134207, 48.895626733810097], [73.988393875976172, 81.696412785186794, 90.975283392877429], [122.06647745762757, 134.61568759831783, 149.53559779353571], [187.10088515888498, 206.16950579913669, 228.59735483841894], [273.84445940873883, 301.58500242842649, 333.90366116455601], [397.67809708695017, 437.76470787028643, 484.07112983987543]]\n"
     ]
    }
   ],
   "source": [
    "# Construct the set of Latency and Energy Profiles of all responders in a 2D Matrix\n",
    "global_latency_profile = list()\n",
    "global_energy_profile = list()\n",
    "\n",
    "for responder in range(responders):\n",
    "    global_latency_profile.append(get_latency_profile_res(responder))\n",
    "    global_energy_profile.append(get_energy_profile_res(responder))\n",
    "print(global_latency_profile)\n",
    "print(global_energy_profile)"
   ]
  },
  {
   "cell_type": "code",
   "execution_count": 508,
   "metadata": {
    "collapsed": true
   },
   "outputs": [],
   "source": [
    "# Get the total Overhead of a responder to a UAV [Unitless Quantity]\n",
    "def get_total_overhead_res_to_uav(responder_id, uav_id):\n",
    "    total_overhead = w1*get_total_latency_res(responder_id, uav_id) +w2*get_total_energy_res(responder_id, uav_id)\n",
    "    return total_overhead"
   ]
  },
  {
   "cell_type": "code",
   "execution_count": 509,
   "metadata": {},
   "outputs": [
    {
     "data": {
      "text/plain": [
       "37.814036411815479"
      ]
     },
     "execution_count": 509,
     "metadata": {},
     "output_type": "execute_result"
    }
   ],
   "source": [
    "get_total_overhead_res_to_uav(0, 0)"
   ]
  },
  {
   "cell_type": "code",
   "execution_count": 532,
   "metadata": {},
   "outputs": [],
   "source": [
    "# Compute the Probability of Failure (PoF) of a responder with a specific UAV (Prospect Theory)\n",
    "responder_to_uav_channel_gain_power = list()\n",
    "responder_to_other_uav_channel_gain_power = list()\n",
    "interference = 1e-10\n",
    "def get_prob_failure_uav(responder_id, uav_id):\n",
    "    # Compute interference with responders assigned to same UAV\n",
    "    for responder in responders_per_uav[uav_id]:\n",
    "        if responder == responder_id:\n",
    "            continue\n",
    "        else:\n",
    "            responder_to_uav_channel_gain_power.append(get_channel_gain_A2G(responder_coordinates[responder], uav_coordinates[uav_id]) *x_f_p[responder]*P_max)\n",
    "    \n",
    "    # Compute the interference of responders assigned to other UAVs\n",
    "    for uav in range(uavs):\n",
    "        if uav == uav_id:\n",
    "            continue\n",
    "        else:\n",
    "            for responder in responders_per_uav[uav]:\n",
    "                responder_to_other_uav_channel_gain_power.append(get_channel_gain_A2G(responder_coordinates[responder], uav_coordinates[uav]) *x_f_p*P_max)\n",
    "                \n",
    "    interference = sum(responder_to_other_uav_channel_gain_power) + sum(responder_to_uav_channel_gain_power)\n",
    "    print(interference)\n",
    "    \n",
    "    if interference == 0:\n",
    "        PoF_res_uav = 0\n",
    "    elif interference < maximum_tolerable_interference_uav[uav_id]:\n",
    "        PoF_res_uav = maximum_tolerable_interference_uav[uav_id]/interference\n",
    "    else:\n",
    "        PoF_res_uav = 1\n",
    "        \n",
    "    return PoF_res_uav"
   ]
  },
  {
   "cell_type": "code",
   "execution_count": 511,
   "metadata": {},
   "outputs": [
    {
     "name": "stdout",
     "output_type": "stream",
     "text": [
      "0\n"
     ]
    },
    {
     "data": {
      "text/plain": [
       "(0, 1021)"
      ]
     },
     "execution_count": 511,
     "metadata": {},
     "output_type": "execute_result"
    }
   ],
   "source": [
    "prob_failure_res_uav(0, 0), data_per_responder[0]"
   ]
  },
  {
   "cell_type": "code",
   "execution_count": 512,
   "metadata": {},
   "outputs": [],
   "source": [
    "# Compute the Expected Overhead\n",
    "def get_expected_overhead_res_to_uav(responder_id, uav_id):\n",
    "    uav_failed_overhead = w1*get_latency_res_uav(responder_id, uav_id) + w2*get_energy_res_uav(responder_id, uav_id)\n",
    "    sending_to_bs = w1*((data_per_responder[responder_id]*(10**3)*8)/get_data_rate_res_bs(responder_id)) + w2*(((data_per_responder[responder_id]*(10**3)*8)/get_data_rate_res_bs(responder_id))*((1-x_f_p[responder_id])*P_max))\n",
    "    first_term = get_prob_failure_uav(uav_id)*(uav_failed_overhead + sending_to_bs)\n",
    "    second_term = (1-get_prob_failure_uav(uav_id))*(get_total_overhead_res_to_uav(responder_id, uav_id))\n",
    "    overhead = first_term + second_term\n",
    "    return overhead"
   ]
  },
  {
   "cell_type": "code",
   "execution_count": 513,
   "metadata": {},
   "outputs": [
    {
     "name": "stdout",
     "output_type": "stream",
     "text": [
      "0\n",
      "0\n"
     ]
    },
    {
     "data": {
      "text/plain": [
       "420.26794731318887"
      ]
     },
     "execution_count": 513,
     "metadata": {},
     "output_type": "execute_result"
    }
   ],
   "source": [
    "get_expected_overhead_res_to_uav(2, 2)"
   ]
  },
  {
   "cell_type": "code",
   "execution_count": 514,
   "metadata": {
    "collapsed": true
   },
   "outputs": [],
   "source": [
    "def get_the_uav_overhead(responder_id, uav_id):\n",
    "    overhead = w1*get_latency_res_uav(responder_id, uav_id) + w2*get_energy_res_uav(responder_id, uav_id)\n",
    "    return overhead"
   ]
  },
  {
   "cell_type": "code",
   "execution_count": 527,
   "metadata": {},
   "outputs": [
    {
     "data": {
      "text/plain": [
       "28.78466346432505"
      ]
     },
     "execution_count": 527,
     "metadata": {},
     "output_type": "execute_result"
    }
   ],
   "source": [
    "get_the_uav_overhead(0, 0)"
   ]
  },
  {
   "cell_type": "code",
   "execution_count": 516,
   "metadata": {
    "collapsed": true
   },
   "outputs": [],
   "source": [
    "def get_the_reference_point_res_to_uav(responder_id, uav_id):\n",
    "    term1 = (((data_offload_percentage_uav*data_per_responder[responder_id])*(10**3)*8)/get_data_rate_res_bs(responder_id))\n",
    "    term2 = term1 * ((1-x_f_p[responder_id])*P_max)\n",
    "    reference_point = w1*term1 + w2*term2\n",
    "    return reference_point"
   ]
  },
  {
   "cell_type": "code",
   "execution_count": 528,
   "metadata": {},
   "outputs": [
    {
     "data": {
      "text/plain": [
       "21.068536877477658"
      ]
     },
     "execution_count": 528,
     "metadata": {},
     "output_type": "execute_result"
    }
   ],
   "source": [
    "get_the_reference_point_res_to_uav(0, 0)"
   ]
  },
  {
   "cell_type": "code",
   "execution_count": 522,
   "metadata": {},
   "outputs": [],
   "source": [
    "def get_prospect_theoretic_utility_res_to_uav(responder_id, uav_id):\n",
    "    if get_the_uav_overhead(responder_id, uav_id) <= get_the_reference_point_res_to_uav(responder_id, uav_id):\n",
    "        prospect_thoeretic_utility = (get_the_reference_point_res_to_uav(responder_id, uav_id) - get_the_uav_overhead(responder_id, uav_id))**alpha\n",
    "    else:\n",
    "        prospect_thoeretic_utility = -loss_aversion *((get_the_uav_overhead(responder_id, uav_id) - get_the_reference_point_res_to_uav(responder_id, uav_id))**beta)\n",
    "    return prospect_thoeretic_utility"
   ]
  },
  {
   "cell_type": "code",
   "execution_count": 529,
   "metadata": {},
   "outputs": [
    {
     "data": {
      "text/plain": [
       "-7.5240188185195001"
      ]
     },
     "execution_count": 529,
     "metadata": {},
     "output_type": "execute_result"
    }
   ],
   "source": [
    "get_prospect_theoretic_utility_res_to_uav(0, 0)"
   ]
  },
  {
   "cell_type": "code",
   "execution_count": null,
   "metadata": {
    "collapsed": true
   },
   "outputs": [],
   "source": [
    "def get_expected_prospect_theoretic_utility_res_to_uav(responder_id, uav_id):\n",
    "    expected_overhead = (1-get_prob_failure_uav(uav_id))"
   ]
  }
 ],
 "metadata": {
  "kernelspec": {
   "display_name": "Python 3",
   "language": "python",
   "name": "python3"
  },
  "language_info": {
   "codemirror_mode": {
    "name": "ipython",
    "version": 3
   },
   "file_extension": ".py",
   "mimetype": "text/x-python",
   "name": "python",
   "nbconvert_exporter": "python",
   "pygments_lexer": "ipython3",
   "version": "3.6.1"
  }
 },
 "nbformat": 4,
 "nbformat_minor": 2
}
