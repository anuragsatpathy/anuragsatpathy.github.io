{
 "cells": [
  {
   "cell_type": "code",
   "execution_count": 17,
   "metadata": {},
   "outputs": [
    {
     "name": "stdout",
     "output_type": "stream",
     "text": [
      "11\n"
     ]
    }
   ],
   "source": [
    "# Define the function\n",
    "def add_numbers(a, b):\n",
    "    \"\"\"\n",
    "    This function takes two numbers as input and returns their sum.\n",
    "    \"\"\"\n",
    "    result = a + b\n",
    "    return result\n",
    "\n",
    "# Call the function with arguments 5 and 5\n",
    "sum_result = add_numbers(5, 5)\n",
    "\n",
    "# Print the result\n",
    "print(sum_result)  # Output: 10"
   ]
  }
 ],
 "metadata": {
  "kernelspec": {
   "display_name": "Python 3",
   "language": "python",
   "name": "python3"
  },
  "language_info": {
   "codemirror_mode": {
    "name": "ipython",
    "version": 3
   },
   "file_extension": ".py",
   "mimetype": "text/x-python",
   "name": "python",
   "nbconvert_exporter": "python",
   "pygments_lexer": "ipython3",
   "version": "3.6.1"
  }
 },
 "nbformat": 4,
 "nbformat_minor": 2
}
